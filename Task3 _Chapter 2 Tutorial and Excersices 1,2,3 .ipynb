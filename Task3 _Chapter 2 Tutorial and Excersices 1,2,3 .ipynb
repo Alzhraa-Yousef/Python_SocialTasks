{
 "cells": [
  {
   "cell_type": "code",
   "execution_count": 1,
   "id": "c4e1c770",
   "metadata": {},
   "outputs": [
    {
     "data": {
      "image/png": "[encoded data removed]",
      "text/plain": [
       "<Figure size 432x288 with 1 Axes>"
      ]
     },
     "metadata": {},
     "output_type": "display_data"
    }
   ],
   "source": [
    "import networkx as nx\n",
    "G=nx.Graph()\n",
    "G.add_nodes_from([1,2,3,4])\n",
    "G.add_edges_from([(1,2),(2,3),(1,3),(1,4)])\n",
    "nx.draw(G,with_labels=True,node_color='pink',node_size=2000,font_color='blue')"
   ]
  },
  {
   "cell_type": "code",
   "execution_count": 4,
   "id": "6d278789",
   "metadata": {},
   "outputs": [
    {
     "data": {
      "text/plain": [
       "True"
      ]
     },
     "execution_count": 4,
     "metadata": {},
     "output_type": "execute_result"
    }
   ],
   "source": [
    "nx.has_path(G,3,4)"
   ]
  },
  {
   "cell_type": "code",
   "execution_count": 7,
   "id": "4565c259",
   "metadata": {},
   "outputs": [
    {
     "data": {
      "text/plain": [
       "[[3, 2, 1, 4], [3, 1, 4]]"
      ]
     },
     "execution_count": 7,
     "metadata": {},
     "output_type": "execute_result"
    }
   ],
   "source": [
    "list(nx.all_simple_paths(G,3,4))"
   ]
  },
  {
   "cell_type": "code",
   "execution_count": 8,
   "id": "ac539985",
   "metadata": {},
   "outputs": [
    {
     "data": {
      "text/plain": [
       "[3, 1, 4]"
      ]
     },
     "execution_count": 8,
     "metadata": {},
     "output_type": "execute_result"
    }
   ],
   "source": [
    "nx.shortest_path(G,3,4)"
   ]
  },
  {
   "cell_type": "code",
   "execution_count": 9,
   "id": "fd1c7a1d",
   "metadata": {},
   "outputs": [
    {
     "data": {
      "text/plain": [
       "2"
      ]
     },
     "execution_count": 9,
     "metadata": {},
     "output_type": "execute_result"
    }
   ],
   "source": [
    "nx.shortest_path_length(G,3,4)"
   ]
  },
  {
   "cell_type": "code",
   "execution_count": 10,
   "id": "0d07abb1",
   "metadata": {},
   "outputs": [
    {
     "data": {
      "text/plain": [
       "True"
      ]
     },
     "execution_count": 10,
     "metadata": {},
     "output_type": "execute_result"
    }
   ],
   "source": [
    "nx.is_connected(G)"
   ]
  },
  {
   "cell_type": "code",
   "execution_count": 18,
   "id": "1b7b0cff",
   "metadata": {},
   "outputs": [
    {
     "data": {
      "image/png": "[encoded data removed]",
      "text/plain": [
       "<Figure size 432x288 with 1 Axes>"
      ]
     },
     "metadata": {},
     "output_type": "display_data"
    }
   ],
   "source": [
    "G=nx.Graph()\n",
    "nx.add_cycle(G,[1,2,3])\n",
    "G.add_edge(4,5)\n",
    "nx.draw(G,with_labels=True)"
   ]
  },
  {
   "cell_type": "code",
   "execution_count": 19,
   "id": "21da697e",
   "metadata": {},
   "outputs": [
    {
     "data": {
      "text/plain": [
       "False"
      ]
     },
     "execution_count": 19,
     "metadata": {},
     "output_type": "execute_result"
    }
   ],
   "source": [
    "nx.is_connected(G)"
   ]
  },
  {
   "cell_type": "code",
   "execution_count": 21,
   "id": "8cf66f5b",
   "metadata": {},
   "outputs": [
    {
     "data": {
      "text/plain": [
       "False"
      ]
     },
     "execution_count": 21,
     "metadata": {},
     "output_type": "execute_result"
    }
   ],
   "source": [
    "nx.has_path(G,3,5)"
   ]
  },
  {
   "cell_type": "code",
   "execution_count": 22,
   "id": "ac4a4b43",
   "metadata": {},
   "outputs": [
    {
     "ename": "NetworkXNoPath",
     "evalue": "No path between 3 and 5.",
     "output_type": "error",
     "traceback": [
      "\u001b[1;31m---------------------------------------------------------------------------\u001b[0m",
      "\u001b[1;31mNetworkXNoPath\u001b[0m                            Traceback (most recent call last)",
      "\u001b[1;32m~\\AppData\\Local\\Temp/ipykernel_22320/656884008.py\u001b[0m in \u001b[0;36m<module>\u001b[1;34m\u001b[0m\n\u001b[1;32m----> 1\u001b[1;33m \u001b[0mnx\u001b[0m\u001b[1;33m.\u001b[0m\u001b[0mshortest_path\u001b[0m\u001b[1;33m(\u001b[0m\u001b[0mG\u001b[0m\u001b[1;33m,\u001b[0m\u001b[1;36m3\u001b[0m\u001b[1;33m,\u001b[0m\u001b[1;36m5\u001b[0m\u001b[1;33m)\u001b[0m\u001b[1;33m\u001b[0m\u001b[1;33m\u001b[0m\u001b[0m\n\u001b[0m",
      "\u001b[1;32m~\\anaconda3\\lib\\site-packages\\networkx\\algorithms\\shortest_paths\\generic.py\u001b[0m in \u001b[0;36mshortest_path\u001b[1;34m(G, source, target, weight, method)\u001b[0m\n\u001b[0;32m    158\u001b[0m             \u001b[1;31m# Find shortest source-target path.\u001b[0m\u001b[1;33m\u001b[0m\u001b[1;33m\u001b[0m\u001b[0m\n\u001b[0;32m    159\u001b[0m             \u001b[1;32mif\u001b[0m \u001b[0mmethod\u001b[0m \u001b[1;33m==\u001b[0m \u001b[1;34m\"unweighted\"\u001b[0m\u001b[1;33m:\u001b[0m\u001b[1;33m\u001b[0m\u001b[1;33m\u001b[0m\u001b[0m\n\u001b[1;32m--> 160\u001b[1;33m                 \u001b[0mpaths\u001b[0m \u001b[1;33m=\u001b[0m \u001b[0mnx\u001b[0m\u001b[1;33m.\u001b[0m\u001b[0mbidirectional_shortest_path\u001b[0m\u001b[1;33m(\u001b[0m\u001b[0mG\u001b[0m\u001b[1;33m,\u001b[0m \u001b[0msource\u001b[0m\u001b[1;33m,\u001b[0m \u001b[0mtarget\u001b[0m\u001b[1;33m)\u001b[0m\u001b[1;33m\u001b[0m\u001b[1;33m\u001b[0m\u001b[0m\n\u001b[0m\u001b[0;32m    161\u001b[0m             \u001b[1;32melif\u001b[0m \u001b[0mmethod\u001b[0m \u001b[1;33m==\u001b[0m \u001b[1;34m\"dijkstra\"\u001b[0m\u001b[1;33m:\u001b[0m\u001b[1;33m\u001b[0m\u001b[1;33m\u001b[0m\u001b[0m\n\u001b[0;32m    162\u001b[0m                 \u001b[0m_\u001b[0m\u001b[1;33m,\u001b[0m \u001b[0mpaths\u001b[0m \u001b[1;33m=\u001b[0m \u001b[0mnx\u001b[0m\u001b[1;33m.\u001b[0m\u001b[0mbidirectional_dijkstra\u001b[0m\u001b[1;33m(\u001b[0m\u001b[0mG\u001b[0m\u001b[1;33m,\u001b[0m \u001b[0msource\u001b[0m\u001b[1;33m,\u001b[0m \u001b[0mtarget\u001b[0m\u001b[1;33m,\u001b[0m \u001b[0mweight\u001b[0m\u001b[1;33m)\u001b[0m\u001b[1;33m\u001b[0m\u001b[1;33m\u001b[0m\u001b[0m\n",
      "\u001b[1;32m~\\anaconda3\\lib\\site-packages\\networkx\\algorithms\\shortest_paths\\unweighted.py\u001b[0m in \u001b[0;36mbidirectional_shortest_path\u001b[1;34m(G, source, target)\u001b[0m\n\u001b[0;32m    222\u001b[0m \u001b[1;33m\u001b[0m\u001b[0m\n\u001b[0;32m    223\u001b[0m     \u001b[1;31m# call helper to do the real work\u001b[0m\u001b[1;33m\u001b[0m\u001b[1;33m\u001b[0m\u001b[0m\n\u001b[1;32m--> 224\u001b[1;33m     \u001b[0mresults\u001b[0m \u001b[1;33m=\u001b[0m \u001b[0m_bidirectional_pred_succ\u001b[0m\u001b[1;33m(\u001b[0m\u001b[0mG\u001b[0m\u001b[1;33m,\u001b[0m \u001b[0msource\u001b[0m\u001b[1;33m,\u001b[0m \u001b[0mtarget\u001b[0m\u001b[1;33m)\u001b[0m\u001b[1;33m\u001b[0m\u001b[1;33m\u001b[0m\u001b[0m\n\u001b[0m\u001b[0;32m    225\u001b[0m     \u001b[0mpred\u001b[0m\u001b[1;33m,\u001b[0m \u001b[0msucc\u001b[0m\u001b[1;33m,\u001b[0m \u001b[0mw\u001b[0m \u001b[1;33m=\u001b[0m \u001b[0mresults\u001b[0m\u001b[1;33m\u001b[0m\u001b[1;33m\u001b[0m\u001b[0m\n\u001b[0;32m    226\u001b[0m \u001b[1;33m\u001b[0m\u001b[0m\n",
      "\u001b[1;32m~\\anaconda3\\lib\\site-packages\\networkx\\algorithms\\shortest_paths\\unweighted.py\u001b[0m in \u001b[0;36m_bidirectional_pred_succ\u001b[1;34m(G, source, target)\u001b[0m\n\u001b[0;32m    290\u001b[0m                         \u001b[1;32mreturn\u001b[0m \u001b[0mpred\u001b[0m\u001b[1;33m,\u001b[0m \u001b[0msucc\u001b[0m\u001b[1;33m,\u001b[0m \u001b[0mw\u001b[0m\u001b[1;33m\u001b[0m\u001b[1;33m\u001b[0m\u001b[0m\n\u001b[0;32m    291\u001b[0m \u001b[1;33m\u001b[0m\u001b[0m\n\u001b[1;32m--> 292\u001b[1;33m     \u001b[1;32mraise\u001b[0m \u001b[0mnx\u001b[0m\u001b[1;33m.\u001b[0m\u001b[0mNetworkXNoPath\u001b[0m\u001b[1;33m(\u001b[0m\u001b[1;34mf\"No path between {source} and {target}.\"\u001b[0m\u001b[1;33m)\u001b[0m\u001b[1;33m\u001b[0m\u001b[1;33m\u001b[0m\u001b[0m\n\u001b[0m\u001b[0;32m    293\u001b[0m \u001b[1;33m\u001b[0m\u001b[0m\n\u001b[0;32m    294\u001b[0m \u001b[1;33m\u001b[0m\u001b[0m\n",
      "\u001b[1;31mNetworkXNoPath\u001b[0m: No path between 3 and 5."
     ]
    }
   ],
   "source": [
    "nx.shortest_path(G,3,5)"
   ]
  },
  {
   "cell_type": "code",
   "execution_count": 24,
   "id": "6491c632",
   "metadata": {},
   "outputs": [
    {
     "data": {
      "text/plain": [
       "2"
      ]
     },
     "execution_count": 24,
     "metadata": {},
     "output_type": "execute_result"
    }
   ],
   "source": [
    "nx.number_connected_components(G)"
   ]
  },
  {
   "cell_type": "code",
   "execution_count": 26,
   "id": "dd5ee6a8",
   "metadata": {},
   "outputs": [
    {
     "data": {
      "text/plain": [
       "[{1, 2, 3}, {4, 5}]"
      ]
     },
     "execution_count": 26,
     "metadata": {},
     "output_type": "execute_result"
    }
   ],
   "source": [
    "list(nx.connected_components(G))"
   ]
  },
  {
   "cell_type": "code",
   "execution_count": 29,
   "id": "575971d0",
   "metadata": {},
   "outputs": [
    {
     "data": {
      "text/plain": [
       "3"
      ]
     },
     "execution_count": 29,
     "metadata": {},
     "output_type": "execute_result"
    }
   ],
   "source": [
    "components=list(nx.connected_components(G))\n",
    "len(components[0])"
   ]
  },
  {
   "cell_type": "code",
   "execution_count": 30,
   "id": "1615d053",
   "metadata": {},
   "outputs": [
    {
     "data": {
      "text/plain": [
       "{1, 2, 3}"
      ]
     },
     "execution_count": 30,
     "metadata": {},
     "output_type": "execute_result"
    }
   ],
   "source": [
    "max(nx.connected_components(G),key=len)"
   ]
  },
  {
   "cell_type": "code",
   "execution_count": 35,
   "id": "c8086b3a",
   "metadata": {},
   "outputs": [
    {
     "data": {
      "image/png": "[encoded data removed]",
      "text/plain": [
       "<Figure size 432x288 with 1 Axes>"
      ]
     },
     "metadata": {},
     "output_type": "display_data"
    }
   ],
   "source": [
    "core_nodes=max(nx.connected_components(G),key=len)\n",
    "core=G.subgraph(core_nodes)\n",
    "nx.draw(core,with_labels=True)"
   ]
  },
  {
   "cell_type": "code",
   "execution_count": 2,
   "id": "d6760ca4",
   "metadata": {},
   "outputs": [
    {
     "data": {
      "image/png": "[encoded data removed]",
      "text/plain": [
       "<Figure size 432x288 with 1 Axes>"
      ]
     },
     "metadata": {},
     "output_type": "display_data"
    }
   ],
   "source": [
    "D=nx.DiGraph()\n",
    "D.add_edges_from([\n",
    "    (1,2),\n",
    "    (2,3),\n",
    "    (3,2),\n",
    "    (3,4),\n",
    "    (3,5),\n",
    "    (4,2),\n",
    "    (4,5),\n",
    "    (4,6),\n",
    "    (5,6),\n",
    "    (6,4),\n",
    "    \n",
    "])\n",
    "nx.draw(D,with_labels=True,node_color='red')"
   ]
  },
  {
   "cell_type": "code",
   "execution_count": 3,
   "id": "7756ef9a",
   "metadata": {},
   "outputs": [
    {
     "data": {
      "text/plain": [
       "True"
      ]
     },
     "execution_count": 3,
     "metadata": {},
     "output_type": "execute_result"
    }
   ],
   "source": [
    "nx.has_path(D,1,4)"
   ]
  },
  {
   "cell_type": "code",
   "execution_count": 4,
   "id": "e61eb23a",
   "metadata": {},
   "outputs": [
    {
     "data": {
      "text/plain": [
       "False"
      ]
     },
     "execution_count": 4,
     "metadata": {},
     "output_type": "execute_result"
    }
   ],
   "source": [
    "nx.has_path(D,4,1)"
   ]
  },
  {
   "cell_type": "code",
   "execution_count": 5,
   "id": "394e2b28",
   "metadata": {},
   "outputs": [
    {
     "data": {
      "text/plain": [
       "[2, 3, 5]"
      ]
     },
     "execution_count": 5,
     "metadata": {},
     "output_type": "execute_result"
    }
   ],
   "source": [
    "nx.shortest_path(D,2,5)"
   ]
  },
  {
   "cell_type": "code",
   "execution_count": 6,
   "id": "e801bf26",
   "metadata": {},
   "outputs": [
    {
     "data": {
      "text/plain": [
       "[5, 6, 4, 2]"
      ]
     },
     "execution_count": 6,
     "metadata": {},
     "output_type": "execute_result"
    }
   ],
   "source": [
    "nx.shortest_path(D,5,2)"
   ]
  },
  {
   "cell_type": "code",
   "execution_count": 7,
   "id": "7cf694fc",
   "metadata": {},
   "outputs": [
    {
     "data": {
      "text/plain": [
       "False"
      ]
     },
     "execution_count": 7,
     "metadata": {},
     "output_type": "execute_result"
    }
   ],
   "source": [
    "nx.is_strongly_connected(D)"
   ]
  },
  {
   "cell_type": "code",
   "execution_count": 8,
   "id": "6c9c9acb",
   "metadata": {},
   "outputs": [
    {
     "data": {
      "text/plain": [
       "True"
      ]
     },
     "execution_count": 8,
     "metadata": {},
     "output_type": "execute_result"
    }
   ],
   "source": [
    "nx.is_weakly_connected(D)"
   ]
  },
  {
   "cell_type": "code",
   "execution_count": 9,
   "id": "40e12b1a",
   "metadata": {},
   "outputs": [
    {
     "ename": "NetworkXNotImplemented",
     "evalue": "not implemented for directed type",
     "output_type": "error",
     "traceback": [
      "\u001b[1;31m---------------------------------------------------------------------------\u001b[0m",
      "\u001b[1;31mNetworkXNotImplemented\u001b[0m                    Traceback (most recent call last)",
      "\u001b[1;32m~\\AppData\\Local\\Temp/ipykernel_1800/2575533316.py\u001b[0m in \u001b[0;36m<module>\u001b[1;34m\u001b[0m\n\u001b[1;32m----> 1\u001b[1;33m \u001b[0mnx\u001b[0m\u001b[1;33m.\u001b[0m\u001b[0mis_connected\u001b[0m\u001b[1;33m(\u001b[0m\u001b[0mD\u001b[0m\u001b[1;33m)\u001b[0m\u001b[1;33m\u001b[0m\u001b[1;33m\u001b[0m\u001b[0m\n\u001b[0m",
      "\u001b[1;32m~\\anaconda3\\lib\\site-packages\\networkx\\utils\\decorators.py\u001b[0m in \u001b[0;36mfunc\u001b[1;34m(_argmap__wrapper, *args, **kwargs)\u001b[0m\n\u001b[0;32m    793\u001b[0m \u001b[1;33m\u001b[0m\u001b[0m\n\u001b[0;32m    794\u001b[0m             \u001b[1;32mdef\u001b[0m \u001b[0mfunc\u001b[0m\u001b[1;33m(\u001b[0m\u001b[1;33m*\u001b[0m\u001b[0margs\u001b[0m\u001b[1;33m,\u001b[0m \u001b[0m__wrapper\u001b[0m\u001b[1;33m=\u001b[0m\u001b[1;32mNone\u001b[0m\u001b[1;33m,\u001b[0m \u001b[1;33m**\u001b[0m\u001b[0mkwargs\u001b[0m\u001b[1;33m)\u001b[0m\u001b[1;33m:\u001b[0m\u001b[1;33m\u001b[0m\u001b[1;33m\u001b[0m\u001b[0m\n\u001b[1;32m--> 795\u001b[1;33m                 \u001b[1;32mreturn\u001b[0m \u001b[0margmap\u001b[0m\u001b[1;33m.\u001b[0m\u001b[0m_lazy_compile\u001b[0m\u001b[1;33m(\u001b[0m\u001b[0m__wrapper\u001b[0m\u001b[1;33m)\u001b[0m\u001b[1;33m(\u001b[0m\u001b[1;33m*\u001b[0m\u001b[0margs\u001b[0m\u001b[1;33m,\u001b[0m \u001b[1;33m**\u001b[0m\u001b[0mkwargs\u001b[0m\u001b[1;33m)\u001b[0m\u001b[1;33m\u001b[0m\u001b[1;33m\u001b[0m\u001b[0m\n\u001b[0m\u001b[0;32m    796\u001b[0m \u001b[1;33m\u001b[0m\u001b[0m\n\u001b[0;32m    797\u001b[0m         \u001b[1;31m# standard function-wrapping stuff\u001b[0m\u001b[1;33m\u001b[0m\u001b[1;33m\u001b[0m\u001b[0m\n",
      "\u001b[1;32m~\\anaconda3\\lib\\site-packages\\networkx\\utils\\decorators.py\u001b[0m in \u001b[0;36margmap_is_connected_25\u001b[1;34m(G)\u001b[0m\n\u001b[0;32m      1\u001b[0m \u001b[1;32mfrom\u001b[0m \u001b[0mcollections\u001b[0m \u001b[1;32mimport\u001b[0m \u001b[0mdefaultdict\u001b[0m\u001b[1;33m\u001b[0m\u001b[1;33m\u001b[0m\u001b[0m\n\u001b[0;32m      2\u001b[0m \u001b[1;32mfrom\u001b[0m \u001b[0mos\u001b[0m\u001b[1;33m.\u001b[0m\u001b[0mpath\u001b[0m \u001b[1;32mimport\u001b[0m \u001b[0msplitext\u001b[0m\u001b[1;33m\u001b[0m\u001b[1;33m\u001b[0m\u001b[0m\n\u001b[1;32m----> 3\u001b[1;33m \u001b[1;32mfrom\u001b[0m \u001b[0mcontextlib\u001b[0m \u001b[1;32mimport\u001b[0m \u001b[0mcontextmanager\u001b[0m\u001b[1;33m\u001b[0m\u001b[1;33m\u001b[0m\u001b[0m\n\u001b[0m\u001b[0;32m      4\u001b[0m \u001b[1;32mfrom\u001b[0m \u001b[0mpathlib\u001b[0m \u001b[1;32mimport\u001b[0m \u001b[0mPath\u001b[0m\u001b[1;33m\u001b[0m\u001b[1;33m\u001b[0m\u001b[0m\n\u001b[0;32m      5\u001b[0m \u001b[1;32mimport\u001b[0m \u001b[0mwarnings\u001b[0m\u001b[1;33m\u001b[0m\u001b[1;33m\u001b[0m\u001b[0m\n",
      "\u001b[1;32m~\\anaconda3\\lib\\site-packages\\networkx\\utils\\decorators.py\u001b[0m in \u001b[0;36m_not_implemented_for\u001b[1;34m(g)\u001b[0m\n\u001b[0;32m     85\u001b[0m             \u001b[0mdval\u001b[0m \u001b[1;32mis\u001b[0m \u001b[1;32mNone\u001b[0m \u001b[1;32mor\u001b[0m \u001b[0mdval\u001b[0m \u001b[1;33m==\u001b[0m \u001b[0mg\u001b[0m\u001b[1;33m.\u001b[0m\u001b[0mis_directed\u001b[0m\u001b[1;33m(\u001b[0m\u001b[1;33m)\u001b[0m\u001b[1;33m\u001b[0m\u001b[1;33m\u001b[0m\u001b[0m\n\u001b[0;32m     86\u001b[0m         ):\n\u001b[1;32m---> 87\u001b[1;33m             \u001b[1;32mraise\u001b[0m \u001b[0mnx\u001b[0m\u001b[1;33m.\u001b[0m\u001b[0mNetworkXNotImplemented\u001b[0m\u001b[1;33m(\u001b[0m\u001b[0merrmsg\u001b[0m\u001b[1;33m)\u001b[0m\u001b[1;33m\u001b[0m\u001b[1;33m\u001b[0m\u001b[0m\n\u001b[0m\u001b[0;32m     88\u001b[0m \u001b[1;33m\u001b[0m\u001b[0m\n\u001b[0;32m     89\u001b[0m         \u001b[1;32mreturn\u001b[0m \u001b[0mg\u001b[0m\u001b[1;33m\u001b[0m\u001b[1;33m\u001b[0m\u001b[0m\n",
      "\u001b[1;31mNetworkXNotImplemented\u001b[0m: not implemented for directed type"
     ]
    }
   ],
   "source": [
    "nx.is_connected(D)"
   ]
  },
  {
   "cell_type": "code",
   "execution_count": 10,
   "id": "6383a063",
   "metadata": {},
   "outputs": [
    {
     "data": {
      "text/plain": [
       "[{1, 2, 3, 4, 5, 6}]"
      ]
     },
     "execution_count": 10,
     "metadata": {},
     "output_type": "execute_result"
    }
   ],
   "source": [
    "list(nx.weakly_connected_components(D))"
   ]
  },
  {
   "cell_type": "code",
   "execution_count": 11,
   "id": "c7599fef",
   "metadata": {},
   "outputs": [
    {
     "data": {
      "text/plain": [
       "[{2, 3, 4, 5, 6}, {1}]"
      ]
     },
     "execution_count": 11,
     "metadata": {},
     "output_type": "execute_result"
    }
   ],
   "source": [
    "list(nx.strongly_connected_components(D))"
   ]
  },
  {
   "cell_type": "code",
   "execution_count": 2,
   "id": "ecb9c901",
   "metadata": {},
   "outputs": [],
   "source": [
    "G = nx.read_graphml('openflights_usa.graphml')"
   ]
  },
  {
   "cell_type": "code",
   "execution_count": 3,
   "id": "1f3e3863",
   "metadata": {},
   "outputs": [
    {
     "data": {
      "image/png": "[encoded data removed]",
      "text/plain": [
       "<Figure size 432x288 with 1 Axes>"
      ]
     },
     "metadata": {},
     "output_type": "display_data"
    }
   ],
   "source": [
    "nx.draw(G,with_labels=True,node_size=500)"
   ]
  },
  {
   "cell_type": "code",
   "execution_count": 4,
   "id": "5f265fa8",
   "metadata": {},
   "outputs": [
    {
     "data": {
      "text/plain": [
       "{'name': 'Indianapolis International Airport',\n",
       " 'latitude': 39.7173,\n",
       " 'longitude': -86.294403,\n",
       " 'IATA': 'IND'}"
      ]
     },
     "execution_count": 4,
     "metadata": {},
     "output_type": "execute_result"
    }
   ],
   "source": [
    "G.nodes['IND']"
   ]
  },
  {
   "cell_type": "code",
   "execution_count": 4,
   "id": "2fd73daa",
   "metadata": {},
   "outputs": [
    {
     "data": {
      "text/plain": [
       "'Indianapolis International Airport'"
      ]
     },
     "execution_count": 4,
     "metadata": {},
     "output_type": "execute_result"
    }
   ],
   "source": [
    "G.nodes['IND']['name']"
   ]
  },
  {
   "cell_type": "code",
   "execution_count": 5,
   "id": "14defb4b",
   "metadata": {},
   "outputs": [
    {
     "data": {
      "text/plain": [
       "['RDD',\n",
       " 'EUG',\n",
       " 'IDA',\n",
       " 'MFR',\n",
       " 'RDM',\n",
       " 'OOK',\n",
       " 'ABL',\n",
       " 'BKC',\n",
       " 'ITO',\n",
       " 'OBU',\n",
       " 'ORV',\n",
       " 'WLK',\n",
       " 'KTS',\n",
       " 'CAK',\n",
       " 'HSV',\n",
       " 'PKB',\n",
       " 'MGM',\n",
       " 'TRI',\n",
       " 'PAH',\n",
       " 'KKA',\n",
       " 'SMK',\n",
       " 'SKK',\n",
       " 'TNC',\n",
       " 'AKB',\n",
       " 'PGA',\n",
       " 'FCA',\n",
       " 'MBS',\n",
       " 'BGM',\n",
       " 'KFP',\n",
       " 'NLG',\n",
       " 'KLW',\n",
       " 'KWN',\n",
       " 'HNM',\n",
       " 'KYU',\n",
       " 'SCM',\n",
       " 'BTI',\n",
       " 'NME',\n",
       " 'KKH',\n",
       " 'NIB',\n",
       " 'PSG',\n",
       " 'AIN',\n",
       " 'CIC',\n",
       " 'KUK',\n",
       " 'WNA',\n",
       " 'IRC',\n",
       " 'SFB',\n",
       " 'SLQ',\n",
       " 'JST',\n",
       " 'HKB',\n",
       " 'MLY',\n",
       " 'CLM',\n",
       " 'KWT',\n",
       " 'ELI',\n",
       " 'GLV',\n",
       " 'PSM',\n",
       " 'TLA',\n",
       " 'WAA',\n",
       " 'MSO',\n",
       " 'HVR',\n",
       " 'HHH',\n",
       " 'GRK',\n",
       " 'TVF',\n",
       " 'SGY',\n",
       " 'MLL',\n",
       " 'RBY',\n",
       " 'EGE',\n",
       " 'CSG',\n",
       " 'LAW',\n",
       " 'FLG',\n",
       " 'ANV',\n",
       " 'TWF',\n",
       " 'MVY',\n",
       " 'KVC',\n",
       " 'STC',\n",
       " 'GTR',\n",
       " 'ERI',\n",
       " 'HYA',\n",
       " 'PTH',\n",
       " 'AUK',\n",
       " 'MGW',\n",
       " 'CRW',\n",
       " 'AVP',\n",
       " 'BJI',\n",
       " 'FAR',\n",
       " 'KPN',\n",
       " 'GCC',\n",
       " 'SVA',\n",
       " 'SCE',\n",
       " 'HGR',\n",
       " 'KOT',\n",
       " 'MEI',\n",
       " 'SPI',\n",
       " 'CEZ',\n",
       " 'HDN',\n",
       " 'LBL',\n",
       " 'COD',\n",
       " 'SGF',\n",
       " 'JLN',\n",
       " 'ABE',\n",
       " 'XNA',\n",
       " 'SBN',\n",
       " 'CKB',\n",
       " 'LRD',\n",
       " 'ORH',\n",
       " 'ACV',\n",
       " 'OAJ',\n",
       " 'DBQ',\n",
       " 'GGG',\n",
       " 'PVC',\n",
       " 'KTN',\n",
       " 'GGW',\n",
       " 'OGD',\n",
       " 'PIH',\n",
       " 'PDT',\n",
       " 'LUR',\n",
       " 'PIZ',\n",
       " 'RAP',\n",
       " 'BTT',\n",
       " 'FYU',\n",
       " 'ATK',\n",
       " 'TLJ',\n",
       " 'SNP',\n",
       " 'IGG',\n",
       " 'STG',\n",
       " 'ILI',\n",
       " 'PTU',\n",
       " 'AZA',\n",
       " 'FSM',\n",
       " 'KAL',\n",
       " 'GFK',\n",
       " 'KSM',\n",
       " 'PRC',\n",
       " 'TTN',\n",
       " 'BOS',\n",
       " 'KVL',\n",
       " 'OAK',\n",
       " 'OMA',\n",
       " 'HOT',\n",
       " 'OGG',\n",
       " 'ICT',\n",
       " 'MCI',\n",
       " 'MSN',\n",
       " 'DLG',\n",
       " 'HRO',\n",
       " 'PHX',\n",
       " 'BGR',\n",
       " 'BUF',\n",
       " 'GEG',\n",
       " 'SFO',\n",
       " 'GNV',\n",
       " 'MEM',\n",
       " 'ELD',\n",
       " 'PVU',\n",
       " 'LAX',\n",
       " 'CLE',\n",
       " 'WTK',\n",
       " 'CVG',\n",
       " 'AIA',\n",
       " 'JNU',\n",
       " 'LFT',\n",
       " 'EWR',\n",
       " 'BOI',\n",
       " 'GCK',\n",
       " 'MOT',\n",
       " 'DAL',\n",
       " 'HLN',\n",
       " 'LCH',\n",
       " 'KOA',\n",
       " 'MYR',\n",
       " 'ACK',\n",
       " 'DCA',\n",
       " 'LAM',\n",
       " 'ACY',\n",
       " 'PUB',\n",
       " 'PQI',\n",
       " 'ADQ',\n",
       " 'FLL',\n",
       " 'INL',\n",
       " 'SLC',\n",
       " 'HON',\n",
       " 'MDT',\n",
       " 'LNK',\n",
       " 'LAN',\n",
       " 'MUE',\n",
       " 'MSS',\n",
       " 'IAH',\n",
       " 'SOW',\n",
       " 'BFL',\n",
       " 'ELP',\n",
       " 'HRL',\n",
       " 'MMU',\n",
       " 'PNS',\n",
       " 'HOU',\n",
       " 'PIT',\n",
       " 'BRW',\n",
       " 'ECP',\n",
       " 'MMH',\n",
       " 'MIA',\n",
       " 'SEA',\n",
       " 'CHA',\n",
       " 'JAN',\n",
       " 'GAM',\n",
       " 'LGB',\n",
       " 'IPT',\n",
       " 'IND',\n",
       " 'KQA',\n",
       " 'HPN',\n",
       " 'JBR',\n",
       " 'ALW',\n",
       " 'YUM',\n",
       " 'CNM',\n",
       " 'DLH',\n",
       " 'BET',\n",
       " 'PKA',\n",
       " 'LIH',\n",
       " 'YAK',\n",
       " 'ATY',\n",
       " 'RIC',\n",
       " 'SHV',\n",
       " 'CDV',\n",
       " 'ORF',\n",
       " 'BPT',\n",
       " 'SAV',\n",
       " 'OME',\n",
       " 'PIE',\n",
       " 'MQT',\n",
       " 'SCC',\n",
       " 'SAT',\n",
       " 'ROC',\n",
       " 'TEB',\n",
       " 'BKW',\n",
       " 'RDU',\n",
       " 'DAY',\n",
       " 'ENA',\n",
       " 'LAS',\n",
       " 'IAG',\n",
       " 'IAN',\n",
       " 'PHF',\n",
       " 'TUS',\n",
       " 'BRL',\n",
       " 'AKP',\n",
       " 'PVD',\n",
       " 'SBY',\n",
       " 'CEC',\n",
       " 'BUR',\n",
       " 'DTW',\n",
       " 'TPA',\n",
       " 'EEK',\n",
       " 'MYU',\n",
       " 'SPS',\n",
       " 'HIB',\n",
       " 'SHH',\n",
       " 'MAF',\n",
       " 'GRB',\n",
       " 'LUK',\n",
       " 'ARC',\n",
       " 'AGS',\n",
       " 'ISN',\n",
       " 'LIT',\n",
       " 'SWF',\n",
       " 'HOM',\n",
       " 'TBN',\n",
       " 'ABR',\n",
       " 'ABY',\n",
       " 'AHN',\n",
       " 'DFW',\n",
       " 'MLB',\n",
       " 'APN',\n",
       " 'AUS',\n",
       " 'BFD',\n",
       " 'BFF',\n",
       " 'TYS',\n",
       " 'BQK',\n",
       " 'STL',\n",
       " 'GRR',\n",
       " 'CGI',\n",
       " 'CIU',\n",
       " 'ATL',\n",
       " 'DRG',\n",
       " 'CMX',\n",
       " 'DDC',\n",
       " 'DUJ',\n",
       " 'EAU',\n",
       " 'EKO',\n",
       " 'EWB',\n",
       " 'BNA',\n",
       " 'FAT',\n",
       " 'GRI',\n",
       " 'OTZ',\n",
       " 'HTS',\n",
       " 'TOG',\n",
       " 'IRK',\n",
       " 'LGA',\n",
       " 'TLH',\n",
       " 'LBE',\n",
       " 'LBF',\n",
       " 'AUG',\n",
       " 'LMT',\n",
       " 'IPL',\n",
       " 'MKL',\n",
       " 'LYH',\n",
       " 'MKG',\n",
       " 'MSL',\n",
       " 'FAY',\n",
       " 'OWB',\n",
       " 'BTV',\n",
       " 'JAX',\n",
       " 'DRO',\n",
       " 'IAD',\n",
       " 'CLL',\n",
       " 'MKE',\n",
       " 'ABI',\n",
       " 'COU',\n",
       " 'PDX',\n",
       " 'SHR',\n",
       " 'PBI',\n",
       " 'SLN',\n",
       " 'SMX',\n",
       " 'TUP',\n",
       " 'UIN',\n",
       " 'VCT',\n",
       " 'HNL',\n",
       " 'DSM',\n",
       " 'EWN',\n",
       " 'SAN',\n",
       " 'MLU',\n",
       " 'AOO',\n",
       " 'ONT',\n",
       " 'ROW',\n",
       " 'BRO',\n",
       " 'DHN',\n",
       " 'FMN',\n",
       " 'CRP',\n",
       " 'SYR',\n",
       " 'MDW',\n",
       " 'SJC',\n",
       " 'HOB',\n",
       " 'DEN',\n",
       " 'PHL',\n",
       " 'SUX',\n",
       " 'MCN',\n",
       " 'NUL',\n",
       " 'LAR',\n",
       " 'CMH',\n",
       " 'GAL',\n",
       " 'IMT',\n",
       " 'AET',\n",
       " 'ACT',\n",
       " 'TXK',\n",
       " 'PBG',\n",
       " 'VEE',\n",
       " 'ANC',\n",
       " 'LEB',\n",
       " 'BLI',\n",
       " 'WBQ',\n",
       " 'MOB',\n",
       " 'SAF',\n",
       " 'CEM',\n",
       " 'LNS',\n",
       " 'ALO',\n",
       " 'BLV',\n",
       " 'SHG',\n",
       " 'RSW',\n",
       " 'AKN',\n",
       " 'JHM',\n",
       " 'JFK',\n",
       " 'MKK',\n",
       " 'CYS',\n",
       " 'SCK',\n",
       " 'CHS',\n",
       " 'RNO',\n",
       " 'MTJ',\n",
       " 'RIW',\n",
       " 'BHM',\n",
       " 'VIS',\n",
       " 'MOD',\n",
       " 'SMF',\n",
       " 'COS',\n",
       " 'SDP',\n",
       " 'MCE',\n",
       " 'OTH',\n",
       " 'CDC',\n",
       " 'BDL',\n",
       " 'MFE',\n",
       " 'GCN',\n",
       " 'LBB',\n",
       " 'ORD',\n",
       " 'FAI',\n",
       " 'PIB',\n",
       " 'ART',\n",
       " 'PSP',\n",
       " 'AMA',\n",
       " 'SJT',\n",
       " 'FOE',\n",
       " 'EAT',\n",
       " 'ILM',\n",
       " 'BTR',\n",
       " 'PIR',\n",
       " 'TYR',\n",
       " 'BWI',\n",
       " 'LNY',\n",
       " 'AEX',\n",
       " 'PLN',\n",
       " 'CDB',\n",
       " 'TUL',\n",
       " 'SIT',\n",
       " 'ISP',\n",
       " 'MSP',\n",
       " 'ILG',\n",
       " 'DUT',\n",
       " 'MSY',\n",
       " 'PWM',\n",
       " 'OKC',\n",
       " 'ALB',\n",
       " 'VDZ',\n",
       " 'SNA',\n",
       " 'RHI',\n",
       " 'CPR',\n",
       " 'VPS',\n",
       " 'EYW',\n",
       " 'CLT',\n",
       " 'RKS',\n",
       " 'MCO',\n",
       " 'FLO',\n",
       " 'GTF',\n",
       " 'YNG',\n",
       " 'ESD',\n",
       " 'RUT',\n",
       " 'BRD',\n",
       " 'LWB',\n",
       " 'PGV',\n",
       " 'CYF',\n",
       " 'SBP',\n",
       " 'WSN',\n",
       " 'AGN',\n",
       " 'SLK',\n",
       " 'WMO',\n",
       " 'ELV',\n",
       " 'ADK',\n",
       " 'GST',\n",
       " 'OGS',\n",
       " 'HCR',\n",
       " 'HNS',\n",
       " 'KLG',\n",
       " 'MCG',\n",
       " 'ESC',\n",
       " 'ANI',\n",
       " 'STS',\n",
       " 'WRG',\n",
       " 'BFI',\n",
       " 'ASE',\n",
       " 'VLD',\n",
       " 'HPB',\n",
       " 'EMK',\n",
       " 'WRL',\n",
       " 'PUW',\n",
       " 'LWS',\n",
       " 'ELM',\n",
       " 'ITH',\n",
       " 'MRY',\n",
       " 'SBA',\n",
       " 'DAB',\n",
       " 'RSH',\n",
       " 'YKM',\n",
       " 'CAE',\n",
       " 'LCK',\n",
       " 'UNK',\n",
       " 'UST',\n",
       " 'GUC',\n",
       " 'MBL',\n",
       " 'PGD',\n",
       " 'JHW',\n",
       " 'CLD',\n",
       " 'SHD',\n",
       " 'DIK',\n",
       " 'SDY',\n",
       " 'CDR',\n",
       " 'KPV',\n",
       " 'MCK',\n",
       " 'GDV',\n",
       " 'OLF',\n",
       " 'ALS',\n",
       " 'CNY',\n",
       " 'VEL',\n",
       " 'HVN',\n",
       " 'AVL',\n",
       " 'GSO',\n",
       " 'FSD',\n",
       " 'FRD',\n",
       " 'MHT',\n",
       " 'APF',\n",
       " 'EGX',\n",
       " 'SDF',\n",
       " 'CHO',\n",
       " 'ROA',\n",
       " 'LEX',\n",
       " 'EVV',\n",
       " 'ABQ',\n",
       " 'BZN',\n",
       " 'BIL',\n",
       " 'BTM',\n",
       " 'TVC',\n",
       " 'KWK',\n",
       " 'BHB',\n",
       " 'RKD',\n",
       " 'JAC',\n",
       " 'RFD',\n",
       " 'SHX',\n",
       " 'CIK',\n",
       " 'GSP',\n",
       " 'HUS',\n",
       " 'HSL',\n",
       " 'BMI',\n",
       " 'GPT',\n",
       " 'AZO',\n",
       " 'TOL',\n",
       " 'FWA',\n",
       " 'DEC',\n",
       " 'CID',\n",
       " 'LSE',\n",
       " 'CWA',\n",
       " 'PIA',\n",
       " 'ATW',\n",
       " 'RST',\n",
       " 'CMI',\n",
       " 'MHK',\n",
       " 'MOU',\n",
       " 'FNT',\n",
       " 'FKL',\n",
       " 'GJT',\n",
       " 'SGU',\n",
       " 'VAK',\n",
       " 'SRQ',\n",
       " 'HNH',\n",
       " 'MLI',\n",
       " 'MTM',\n",
       " 'HYG',\n",
       " 'GLH',\n",
       " 'BIS',\n",
       " 'PSC',\n",
       " 'PIP',\n",
       " 'MWA',\n",
       " 'AKK',\n",
       " 'KYK',\n",
       " 'KLN',\n",
       " 'NUI']"
      ]
     },
     "execution_count": 5,
     "metadata": {},
     "output_type": "execute_result"
    }
   ],
   "source": [
    "list(G.nodes)"
   ]
  },
  {
   "cell_type": "code",
   "execution_count": 4,
   "id": "84068ff9",
   "metadata": {},
   "outputs": [
    {
     "data": {
      "text/plain": [
       "True"
      ]
     },
     "execution_count": 4,
     "metadata": {},
     "output_type": "execute_result"
    }
   ],
   "source": [
    "#Excersice 1 \n",
    "#Is there a direct flight between Indianapolis and Fairbanks, Alaska (FAI)? A direct flight is one with no intermediate stops.\n",
    "nx.has_path(G,'IND','FAT')\n",
    "\n",
    "# nx.all_simple_paths(G,'IND','FAT') dous not work in this graph and does not give an error , just stop run for it and any for cell and require reboot jupyter from begining .\n",
    "# the answer is NO , there is an intermediate stop between IND and FAI PHX airport see Excersice 2"
   ]
  },
  {
   "cell_type": "code",
   "execution_count": 18,
   "id": "79f91c20",
   "metadata": {},
   "outputs": [
    {
     "data": {
      "text/plain": [
       "['IND', 'PHX', 'FAT']"
      ]
     },
     "execution_count": 18,
     "metadata": {},
     "output_type": "execute_result"
    }
   ],
   "source": [
    "#Excersice 2\n",
    "#If I wanted to fly from Indianapolis to Fairbanks, Alaska what would be an itinerary with the fewest number of flights?\n",
    "nx.shortest_path(G,'IND','FAT')"
   ]
  },
  {
   "cell_type": "code",
   "execution_count": 37,
   "id": "b6a30c7b",
   "metadata": {},
   "outputs": [
    {
     "data": {
      "text/plain": [
       "2"
      ]
     },
     "execution_count": 37,
     "metadata": {},
     "output_type": "execute_result"
    }
   ],
   "source": [
    "nx.shortest_path_length(G,'IND','FAT')"
   ]
  },
  {
   "cell_type": "code",
   "execution_count": 20,
   "id": "e388a879",
   "metadata": {},
   "outputs": [
    {
     "data": {
      "text/plain": [
       "False"
      ]
     },
     "execution_count": 20,
     "metadata": {},
     "output_type": "execute_result"
    }
   ],
   "source": [
    "#Excersice 3\n",
    "#Is it possible to travel from any airport in the US to any other airport in the US, possibly using connecting flights? In other words, does there exist a path in the network between every possible pair of airports?\n",
    "nx.is_connected(G)\n",
    "#G here is indirect graph"
   ]
  },
  {
   "cell_type": "code",
   "execution_count": null,
   "id": "bc6756a1",
   "metadata": {},
   "outputs": [],
   "source": []
  }
 ],
 "metadata": {
  "kernelspec": {
   "display_name": "Python 3 (ipykernel)",
   "language": "python",
   "name": "python3"
  },
  "language_info": {
   "codemirror_mode": {
    "name": "ipython",
    "version": 3
   },
   "file_extension": ".py",
   "mimetype": "text/x-python",
   "name": "python",
   "nbconvert_exporter": "python",
   "pygments_lexer": "ipython3",
   "version": "3.9.7"
  }
 },
 "nbformat": 4,
 "nbformat_minor": 5
}
