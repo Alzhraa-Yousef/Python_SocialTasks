{
 "cells": [
  {
   "cell_type": "code",
   "execution_count": 1,
   "id": "e43783de",
   "metadata": {},
   "outputs": [
    {
     "data": {
      "image/png": "[encoded data removed]",
      "text/plain": [
       "<Figure size 432x288 with 1 Axes>"
      ]
     },
     "metadata": {},
     "output_type": "display_data"
    }
   ],
   "source": [
    "import networkx as nx\n",
    "# Undirectd Graph\n",
    "G=nx.Graph()\n",
    "G.add_node('a')\n",
    "nodes_to_add=['b','c','d']\n",
    "G.add_nodes_from(nodes_to_add)\n",
    "G.add_edge('a','b')\n",
    "edges_to_add=[('a','c'),('b','c'),('c','d')]\n",
    "G.add_edges_from(edges_to_add)\n",
    "nx.draw(G,with_labels=True)"
   ]
  },
  {
   "cell_type": "code",
   "execution_count": 2,
   "id": "9c720ae3",
   "metadata": {},
   "outputs": [
    {
     "data": {
      "image/png": "[encoded data removed]",
      "text/plain": [
       "<Figure size 432x288 with 1 Axes>"
      ]
     },
     "metadata": {},
     "output_type": "display_data"
    }
   ],
   "source": [
    "nx.draw(G,with_labels=True,node_color='red',node_size=1600,font_color='white',font_size=16)"
   ]
  },
  {
   "cell_type": "code",
   "execution_count": 3,
   "id": "8e336567",
   "metadata": {},
   "outputs": [
    {
     "data": {
      "text/plain": [
       "NodeView(('a', 'b', 'c', 'd'))"
      ]
     },
     "execution_count": 3,
     "metadata": {},
     "output_type": "execute_result"
    }
   ],
   "source": [
    "G.nodes()"
   ]
  },
  {
   "cell_type": "code",
   "execution_count": 4,
   "id": "1f6acb57",
   "metadata": {},
   "outputs": [
    {
     "data": {
      "text/plain": [
       "EdgeView([('a', 'b'), ('a', 'c'), ('b', 'c'), ('c', 'd')])"
      ]
     },
     "execution_count": 4,
     "metadata": {},
     "output_type": "execute_result"
    }
   ],
   "source": [
    "G.edges"
   ]
  },
  {
   "cell_type": "code",
   "execution_count": 5,
   "id": "20a8c6c5",
   "metadata": {},
   "outputs": [
    {
     "name": "stdout",
     "output_type": "stream",
     "text": [
      "a\n",
      "b\n",
      "c\n",
      "d\n"
     ]
    }
   ],
   "source": [
    "#NodeView and EdgeView objects have iterators, so we can use them in for loops:\n",
    "for node in G.nodes:\n",
    "    print(node)"
   ]
  },
  {
   "cell_type": "code",
   "execution_count": 6,
   "id": "38de4858",
   "metadata": {},
   "outputs": [
    {
     "name": "stdout",
     "output_type": "stream",
     "text": [
      "('a', 'b')\n",
      "('a', 'c')\n",
      "('b', 'c')\n",
      "('c', 'd')\n"
     ]
    }
   ],
   "source": [
    "for edge in G.edges:\n",
    "    print(edge)"
   ]
  },
  {
   "cell_type": "code",
   "execution_count": 8,
   "id": "f3a65826",
   "metadata": {},
   "outputs": [
    {
     "data": {
      "text/plain": [
       "4"
      ]
     },
     "execution_count": 8,
     "metadata": {},
     "output_type": "execute_result"
    }
   ],
   "source": [
    "G.number_of_nodes()"
   ]
  },
  {
   "cell_type": "code",
   "execution_count": 9,
   "id": "cd9fe3d2",
   "metadata": {},
   "outputs": [
    {
     "data": {
      "text/plain": [
       "4"
      ]
     },
     "execution_count": 9,
     "metadata": {},
     "output_type": "execute_result"
    }
   ],
   "source": [
    "G.number_of_edges()"
   ]
  },
  {
   "cell_type": "code",
   "execution_count": 10,
   "id": "2ca480b9",
   "metadata": {},
   "outputs": [
    {
     "data": {
      "text/plain": [
       "<dict_keyiterator at 0x1ee63a9d0e0>"
      ]
     },
     "execution_count": 10,
     "metadata": {},
     "output_type": "execute_result"
    }
   ],
   "source": [
    "G.neighbors('b')"
   ]
  },
  {
   "cell_type": "code",
   "execution_count": 11,
   "id": "7b4f1040",
   "metadata": {},
   "outputs": [
    {
     "name": "stdout",
     "output_type": "stream",
     "text": [
      "a\n",
      "c\n"
     ]
    }
   ],
   "source": [
    "for neighbor in G.neighbors('b'):\n",
    "    print(neighbor)"
   ]
  },
  {
   "cell_type": "code",
   "execution_count": 12,
   "id": "52d7e79e",
   "metadata": {},
   "outputs": [
    {
     "data": {
      "text/plain": [
       "['a', 'c']"
      ]
     },
     "execution_count": 12,
     "metadata": {},
     "output_type": "execute_result"
    }
   ],
   "source": [
    "list(G.neighbors('b'))"
   ]
  },
  {
   "cell_type": "code",
   "execution_count": 13,
   "id": "2ea26e54",
   "metadata": {},
   "outputs": [
    {
     "data": {
      "text/plain": [
       "False"
      ]
     },
     "execution_count": 13,
     "metadata": {},
     "output_type": "execute_result"
    }
   ],
   "source": [
    "nx.is_tree(G)"
   ]
  },
  {
   "cell_type": "code",
   "execution_count": 14,
   "id": "661d1c2c",
   "metadata": {},
   "outputs": [
    {
     "data": {
      "text/plain": [
       "True"
      ]
     },
     "execution_count": 14,
     "metadata": {},
     "output_type": "execute_result"
    }
   ],
   "source": [
    "nx.is_connected(G)"
   ]
  },
  {
   "cell_type": "code",
   "execution_count": 15,
   "id": "092f875f",
   "metadata": {},
   "outputs": [
    {
     "data": {
      "text/plain": [
       "True"
      ]
     },
     "execution_count": 15,
     "metadata": {},
     "output_type": "execute_result"
    }
   ],
   "source": [
    "G.has_node('a')"
   ]
  },
  {
   "cell_type": "code",
   "execution_count": 16,
   "id": "e89f83b0",
   "metadata": {},
   "outputs": [
    {
     "data": {
      "text/plain": [
       "False"
      ]
     },
     "execution_count": 16,
     "metadata": {},
     "output_type": "execute_result"
    }
   ],
   "source": [
    "G.has_node('x')"
   ]
  },
  {
   "cell_type": "code",
   "execution_count": 17,
   "id": "d7363ef0",
   "metadata": {},
   "outputs": [
    {
     "data": {
      "text/plain": [
       "True"
      ]
     },
     "execution_count": 17,
     "metadata": {},
     "output_type": "execute_result"
    }
   ],
   "source": [
    "'d' in G.nodes()"
   ]
  },
  {
   "cell_type": "code",
   "execution_count": 18,
   "id": "20f51b7e",
   "metadata": {},
   "outputs": [
    {
     "data": {
      "text/plain": [
       "True"
      ]
     },
     "execution_count": 18,
     "metadata": {},
     "output_type": "execute_result"
    }
   ],
   "source": [
    "G.has_edge('a','b')"
   ]
  },
  {
   "cell_type": "code",
   "execution_count": 19,
   "id": "6c319ede",
   "metadata": {},
   "outputs": [
    {
     "data": {
      "text/plain": [
       "False"
      ]
     },
     "execution_count": 19,
     "metadata": {},
     "output_type": "execute_result"
    }
   ],
   "source": [
    "G.has_edge('a','d')"
   ]
  },
  {
   "cell_type": "code",
   "execution_count": 20,
   "id": "e2db6ce7",
   "metadata": {},
   "outputs": [
    {
     "data": {
      "text/plain": [
       "True"
      ]
     },
     "execution_count": 20,
     "metadata": {},
     "output_type": "execute_result"
    }
   ],
   "source": [
    "('c','d')in G.edges"
   ]
  },
  {
   "cell_type": "code",
   "execution_count": 21,
   "id": "73ab5a80",
   "metadata": {},
   "outputs": [
    {
     "data": {
      "text/plain": [
       "2"
      ]
     },
     "execution_count": 21,
     "metadata": {},
     "output_type": "execute_result"
    }
   ],
   "source": [
    "len(list(G.neighbors('a')))"
   ]
  },
  {
   "cell_type": "code",
   "execution_count": 22,
   "id": "74b58627",
   "metadata": {},
   "outputs": [
    {
     "data": {
      "text/plain": [
       "2"
      ]
     },
     "execution_count": 22,
     "metadata": {},
     "output_type": "execute_result"
    }
   ],
   "source": [
    "G.degree('a')"
   ]
  },
  {
   "cell_type": "code",
   "execution_count": 23,
   "id": "026b5d81",
   "metadata": {},
   "outputs": [
    {
     "data": {
      "text/plain": [
       "['d']"
      ]
     },
     "execution_count": 23,
     "metadata": {},
     "output_type": "execute_result"
    }
   ],
   "source": [
    "# EXERCISE 1\n",
    "#get_leaves that takes a graph as an argument, loops through the nodes, and returns a list of nodes with degree 1.\n",
    "def get_leaves(g):\n",
    "    leaves=[]\n",
    "    for node in g.nodes:\n",
    "        if g.degree(node)==1:\n",
    "            leaves.append(node)\n",
    "    return leaves\n",
    "get_leaves(G)"
   ]
  },
  {
   "cell_type": "code",
   "execution_count": 40,
   "id": "1b07c556",
   "metadata": {},
   "outputs": [
    {
     "name": "stdout",
     "output_type": "stream",
     "text": [
      "True\n"
     ]
    },
    {
     "data": {
      "text/plain": [
       "True"
      ]
     },
     "execution_count": 40,
     "metadata": {},
     "output_type": "execute_result"
    }
   ],
   "source": [
    "## this code change Previous edges \n",
    "G = nx.Graph()\n",
    "G.add_edges_from([\n",
    "        ('a', 'b'),\n",
    "        ('a', 'd'),\n",
    "        ('c', 'd'),\n",
    "    ])\n",
    "print( get_leaves(G) == list({'c', 'b'}) ) \n",
    "set(get_leaves(G)) == {'c', 'b'}"
   ]
  },
  {
   "cell_type": "code",
   "execution_count": 41,
   "id": "ffe74abb",
   "metadata": {},
   "outputs": [
    {
     "name": "stdout",
     "output_type": "stream",
     "text": [
      "['a', 'b', 'd', 'c']\n",
      "[2, 1, 2, 1]\n"
     ]
    }
   ],
   "source": [
    "#Aside: comprehensions\n",
    "#Often we have one sequence of values and we want to generate a new sequence by applying an operation to each item in the first.\n",
    "print(G.nodes())\n",
    "print([G.degree(n)for n in G.nodes()])"
   ]
  },
  {
   "cell_type": "code",
   "execution_count": 42,
   "id": "f7c0ea98",
   "metadata": {},
   "outputs": [
    {
     "data": {
      "text/plain": [
       "['SPIDER', 'Y', 'BANANA']"
      ]
     },
     "execution_count": 42,
     "metadata": {},
     "output_type": "execute_result"
    }
   ],
   "source": [
    "items = ['spider', 'y', 'banana']\n",
    "[item.upper() for item in items]"
   ]
  },
  {
   "cell_type": "code",
   "execution_count": 43,
   "id": "d87289ff",
   "metadata": {},
   "outputs": [
    {
     "data": {
      "text/plain": [
       "[6, 1, 6]"
      ]
     },
     "execution_count": 43,
     "metadata": {},
     "output_type": "execute_result"
    }
   ],
   "source": [
    "#way1\n",
    "g = (len(item) for item in items)\n",
    "list(g)"
   ]
  },
  {
   "cell_type": "code",
   "execution_count": 44,
   "id": "9c989670",
   "metadata": {},
   "outputs": [
    {
     "data": {
      "text/plain": [
       "[6, 1, 6]"
      ]
     },
     "execution_count": 44,
     "metadata": {},
     "output_type": "execute_result"
    }
   ],
   "source": [
    "#way 2 like way1\n",
    "g = [len(item) for item in items]\n",
    "list(g)"
   ]
  },
  {
   "cell_type": "code",
   "execution_count": 46,
   "id": "7e3ea17a",
   "metadata": {},
   "outputs": [
    {
     "data": {
      "text/plain": [
       "6"
      ]
     },
     "execution_count": 46,
     "metadata": {},
     "output_type": "execute_result"
    }
   ],
   "source": [
    "max(len(item) for item in items)"
   ]
  },
  {
   "cell_type": "code",
   "execution_count": 47,
   "id": "f2eeda15",
   "metadata": {},
   "outputs": [
    {
     "data": {
      "text/plain": [
       "['BANANA', 'SPIDER', 'Y']"
      ]
     },
     "execution_count": 47,
     "metadata": {},
     "output_type": "execute_result"
    }
   ],
   "source": [
    "sorted(item.upper()for item in items)"
   ]
  },
  {
   "cell_type": "code",
   "execution_count": 59,
   "id": "d5174ad7",
   "metadata": {},
   "outputs": [
    {
     "data": {
      "image/png": "[encoded data removed]",
      "text/plain": [
       "<Figure size 432x288 with 1 Axes>"
      ]
     },
     "metadata": {},
     "output_type": "display_data"
    }
   ],
   "source": [
    "G=nx.Graph()\n",
    "G.add_nodes_from(['cat','dog','virus',13])\n",
    "G.add_edge('cat','dog')\n",
    "nx.draw(G,with_labels=True,font_color='white',node_size=1000)"
   ]
  },
  {
   "cell_type": "code",
   "execution_count": 2,
   "id": "ab9c51de",
   "metadata": {},
   "outputs": [
    {
     "name": "stdout",
     "output_type": "stream",
     "text": [
      "George Frank Dennis\n",
      "Dennis Claire Esther\n",
      "Claire Frank Alice Esther\n",
      "Bob Alice\n",
      "Frank Alice\n",
      "Alice\n",
      "Esther\n",
      "Shelly\n"
     ]
    }
   ],
   "source": [
    "#Adjacency lists\n",
    "print(open('D:\\داتا سنة رابعة الترم التاني دفعة السنة دي\\social/friends.adjlist').read())\n"
   ]
  },
  {
   "cell_type": "code",
   "execution_count": 28,
   "id": "0febd9d3",
   "metadata": {
    "scrolled": true
   },
   "outputs": [
    {
     "data": {
      "image/png": "[encoded data removed]",
      "text/plain": [
       "<Figure size 432x288 with 1 Axes>"
      ]
     },
     "metadata": {},
     "output_type": "display_data"
    }
   ],
   "source": [
    "SG=nx.read_adjlist('D:\\داتا سنة رابعة الترم التاني دفعة السنة دي\\social/friends.adjlist')\n",
    "nx.draw(SG,node_size=2000,node_color='lightblue',with_labels=True)"
   ]
  },
  {
   "cell_type": "code",
   "execution_count": 35,
   "id": "034d37dc",
   "metadata": {},
   "outputs": [
    {
     "data": {
      "text/plain": [
       "3"
      ]
     },
     "execution_count": 35,
     "metadata": {},
     "output_type": "execute_result"
    }
   ],
   "source": [
    "SG.degree('Alice')"
   ]
  },
  {
   "cell_type": "code",
   "execution_count": 34,
   "id": "43962bcb",
   "metadata": {},
   "outputs": [
    {
     "data": {
      "text/plain": [
       "('Claire', 4)"
      ]
     },
     "execution_count": 34,
     "metadata": {},
     "output_type": "execute_result"
    }
   ],
   "source": [
    "# Excercise 2\n",
    "#function max_degree that takes a graph as its argument, and returns a 2-tuple with the name and degree of the node with highest degree.\n",
    "def max_degree(g):\n",
    "    maxTuple=list(g.degree())[0]    #list(g.degree()) return list of tupels , every tupel is node and degree\n",
    "    for tuple in list(g.degree()):\n",
    "        if tuple[1]>maxTuple[1]:\n",
    "            maxTuple=tuple\n",
    "    return maxTuple\n",
    "max_degree(SG)"
   ]
  },
  {
   "cell_type": "code",
   "execution_count": 36,
   "id": "0c5d42cb",
   "metadata": {},
   "outputs": [
    {
     "data": {
      "text/plain": [
       "True"
      ]
     },
     "execution_count": 36,
     "metadata": {},
     "output_type": "execute_result"
    }
   ],
   "source": [
    "max_degree(SG) == ('Claire', 4)"
   ]
  },
  {
   "cell_type": "code",
   "execution_count": 37,
   "id": "7dea859a",
   "metadata": {},
   "outputs": [
    {
     "data": {
      "text/plain": [
       "['Frank']"
      ]
     },
     "execution_count": 37,
     "metadata": {},
     "output_type": "execute_result"
    }
   ],
   "source": [
    "# Excercise 3\n",
    "#  function mutual_friends that takes a graph and two nodes as arguments, and returns a list (or set) of nodes that are linked to both given nodes.\n",
    "def mutual_friends(sg, node_1, node_2):\n",
    "    neighbors=[]\n",
    "    for node1 in sg.neighbors(node_1):\n",
    "        for node2 in sg.neighbors(node_2):\n",
    "            if node1==node2:\n",
    "                neighbors.append(node1) #oe node2\n",
    "\n",
    "    return neighbors\n",
    "mutual_friends(SG,'Alice', 'Claire') "
   ]
  },
  {
   "cell_type": "code",
   "execution_count": 38,
   "id": "e236e44b",
   "metadata": {},
   "outputs": [
    {
     "data": {
      "text/plain": [
       "True"
      ]
     },
     "execution_count": 38,
     "metadata": {},
     "output_type": "execute_result"
    }
   ],
   "source": [
    "mutual_friends(SG, 'Alice', 'Claire') == ['Frank']"
   ]
  },
  {
   "cell_type": "code",
   "execution_count": 39,
   "id": "75e1dbc2",
   "metadata": {},
   "outputs": [
    {
     "data": {
      "text/plain": [
       "True"
      ]
     },
     "execution_count": 39,
     "metadata": {},
     "output_type": "execute_result"
    }
   ],
   "source": [
    "mutual_friends(SG, 'George', 'Bob') == []"
   ]
  },
  {
   "cell_type": "code",
   "execution_count": 40,
   "id": "b17461d5",
   "metadata": {},
   "outputs": [
    {
     "data": {
      "text/plain": [
       "True"
      ]
     },
     "execution_count": 40,
     "metadata": {},
     "output_type": "execute_result"
    }
   ],
   "source": [
    "sorted(mutual_friends(SG, 'Claire', 'George')) == ['Dennis', 'Frank']"
   ]
  },
  {
   "cell_type": "code",
   "execution_count": 20,
   "id": "de723224",
   "metadata": {},
   "outputs": [
    {
     "data": {
      "image/png": "[encoded data removed]",
      "text/plain": [
       "<Figure size 432x288 with 1 Axes>"
      ]
     },
     "metadata": {},
     "output_type": "display_data"
    }
   ],
   "source": [
    "D=nx.DiGraph()\n",
    "D.add_edges_from([(1,2),(2,3),(3,2),(3,4),(3,5),(4,5),(4,6),(5,6),(6,4),(4,2)])\n",
    "nx.draw(D,with_labels=True,node_color='red')"
   ]
  },
  {
   "cell_type": "code",
   "execution_count": 83,
   "id": "a14f06a9",
   "metadata": {},
   "outputs": [
    {
     "data": {
      "text/plain": [
       "True"
      ]
     },
     "execution_count": 83,
     "metadata": {},
     "output_type": "execute_result"
    }
   ],
   "source": [
    "D.has_edge(1,2)"
   ]
  },
  {
   "cell_type": "code",
   "execution_count": 84,
   "id": "e3100ff6",
   "metadata": {},
   "outputs": [
    {
     "data": {
      "text/plain": [
       "False"
      ]
     },
     "execution_count": 84,
     "metadata": {},
     "output_type": "execute_result"
    }
   ],
   "source": [
    "D.has_edge(2,1)"
   ]
  },
  {
   "cell_type": "code",
   "execution_count": 91,
   "id": "9dab51fe",
   "metadata": {},
   "outputs": [
    {
     "name": "stdout",
     "output_type": "stream",
     "text": [
      "Successors of 2: [3]\n",
      "predecessors of 2: [1, 3, 4]\n"
     ]
    }
   ],
   "source": [
    "print('Successors of 2:',list(D.successors(2)))\n",
    "print('predecessors of 2:',list(D.predecessors(2)))"
   ]
  },
  {
   "cell_type": "code",
   "execution_count": 90,
   "id": "e1fd5df4",
   "metadata": {},
   "outputs": [
    {
     "data": {
      "text/plain": [
       "3"
      ]
     },
     "execution_count": 90,
     "metadata": {},
     "output_type": "execute_result"
    }
   ],
   "source": [
    "D.in_degree(2)"
   ]
  },
  {
   "cell_type": "code",
   "execution_count": 92,
   "id": "91e23a48",
   "metadata": {},
   "outputs": [
    {
     "data": {
      "text/plain": [
       "1"
      ]
     },
     "execution_count": 92,
     "metadata": {},
     "output_type": "execute_result"
    }
   ],
   "source": [
    "D.out_degree(2)"
   ]
  },
  {
   "cell_type": "code",
   "execution_count": 93,
   "id": "d1ca7a54",
   "metadata": {},
   "outputs": [
    {
     "data": {
      "text/plain": [
       "4"
      ]
     },
     "execution_count": 93,
     "metadata": {},
     "output_type": "execute_result"
    }
   ],
   "source": [
    "D.degree(2)"
   ]
  },
  {
   "cell_type": "code",
   "execution_count": 95,
   "id": "84093731",
   "metadata": {},
   "outputs": [
    {
     "name": "stdout",
     "output_type": "stream",
     "text": [
      "Successors of 2: [3]\n",
      "\"Neighbors\" of 2: [3]\n"
     ]
    }
   ],
   "source": [
    "# neighbors in directive Graph not All nodes linked to given node , it is just successors\n",
    "print('Successors of 2:', list(D.successors(2)))\n",
    "print('\"Neighbors\" of 2:', list(D.neighbors(2)))"
   ]
  },
  {
   "cell_type": "code",
   "execution_count": null,
   "id": "ab64005e",
   "metadata": {},
   "outputs": [],
   "source": []
  }
 ],
 "metadata": {
  "kernelspec": {
   "display_name": "Python 3 (ipykernel)",
   "language": "python",
   "name": "python3"
  },
  "language_info": {
   "codemirror_mode": {
    "name": "ipython",
    "version": 3
   },
   "file_extension": ".py",
   "mimetype": "text/x-python",
   "name": "python",
   "nbconvert_exporter": "python",
   "pygments_lexer": "ipython3",
   "version": "3.9.7"
  }
 },
 "nbformat": 4,
 "nbformat_minor": 5
}
